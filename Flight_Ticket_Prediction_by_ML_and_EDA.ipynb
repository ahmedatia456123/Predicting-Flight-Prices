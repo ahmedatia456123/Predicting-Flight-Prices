{
  "metadata": {
    "kernelspec": {
      "language": "python",
      "display_name": "Python 3",
      "name": "python3"
    },
    "language_info": {
      "name": "python",
      "version": "3.10.13",
      "mimetype": "text/x-python",
      "codemirror_mode": {
        "name": "ipython",
        "version": 3
      },
      "pygments_lexer": "ipython3",
      "nbconvert_exporter": "python",
      "file_extension": ".py"
    },
    "kaggle": {
      "accelerator": "none",
      "dataSources": [
        {
          "sourceId": 330428,
          "sourceType": "datasetVersion",
          "datasetId": 140442
        }
      ],
      "dockerImageVersionId": 30746,
      "isInternetEnabled": false,
      "language": "python",
      "sourceType": "notebook",
      "isGpuEnabled": false
    },
    "colab": {
      "name": "Flight Ticket Prediction by ML and EDA",
      "provenance": []
    }
  },
  "nbformat_minor": 0,
  "nbformat": 4,
  "cells": [
    {
      "cell_type": "markdown",
      "source": [
        "Explain all Features\n",
        "\n",
        "**Airline**: This column represents the name of the airline operating the flight. Examples might include \"Air India,\" \"IndiGo,\" \"SpiceJet,\" etc.\n",
        "\n",
        "**Date_of_Journey**: The date on which the journey is scheduled. This is typically in the format \"DD/MM/YYYY\" or \"YYYY-MM-DD\".\n",
        "\n",
        "**Source**: The departure location or city from where the flight is taking off. Examples could be \"Delhi,\" \"Mumbai,\" etc.\n",
        "\n",
        "**Destination**: The arrival location or city where the flight is landing. Examples could be \"Bangalore,\" \"Chennai,\" etc.\n",
        "\n",
        "**Route**: The flight path taken to reach the destination, including any layovers or stops. For example, \"DEL → BOM → BLR\" indicates a flight from Delhi to Bangalore with a stop in Mumbai.\n",
        "\n",
        "**Dep_Time**: The departure time of the flight. This is usually given in 24-hour format (HH).\n",
        "\n",
        "**Arrival_Time**: The arrival time of the flight at the destination. This is also usually in 24-hour format (HH).\n",
        "\n",
        "**Duration**: The total time taken for the journey from departure to arrival. This is typically in the format \"HHh MMm\".\n",
        "\n",
        "**Total_Stops**: The number of stops or layovers the flight makes before reaching the destination. For example, \"non-stop\" means no stops, \"1 stop\" means one stop, etc.\n",
        "\n",
        "**Additional_Info**: Any extra information about the flight. This could include details like \"No info,\" \"In-flight meal not included,\" \"Red-eye flight,\" etc.\n",
        "\n",
        "**Price**: The target variable in your dataset, representing the price of the flight ticket.\n"
      ],
      "metadata": {
        "id": "6A9zbuHl483H"
      }
    },
    {
      "cell_type": "markdown",
      "source": [
        "# Introduction"
      ],
      "metadata": {
        "id": "wCeOJyri483T"
      }
    },
    {
      "cell_type": "markdown",
      "source": [
        "# Importing Libraries"
      ],
      "metadata": {
        "id": "RWiheCF0483X"
      }
    },
    {
      "cell_type": "code",
      "source": [
        "import pandas as pd\n",
        "import numpy as np\n",
        "import matplotlib.pyplot as plt\n",
        "import seaborn as sns\n",
        "import datetime\n",
        "import calendar\n",
        "import warnings\n",
        "warnings.filterwarnings(\"ignore\")\n",
        "import plotly.graph_objs as go\n",
        "from plotly.offline import init_notebook_mode,iplot\n",
        "from sklearn.model_selection import train_test_split\n",
        "from sklearn.ensemble import RandomForestRegressor\n",
        "from sklearn.linear_model import LinearRegression\n",
        "import tensorflow as tf\n",
        "from tensorflow.keras.callbacks import EarlyStopping\n",
        "from tensorflow.keras.layers import Dense, Dropout\n",
        "from sklearn.svm import SVR\n",
        "from sklearn import metrics\n",
        "from sklearn.model_selection import RandomizedSearchCV\n",
        "from sklearn.model_selection import GridSearchCV\n",
        "from sklearn.preprocessing import StandardScaler"
      ],
      "metadata": {
        "execution": {
          "iopub.status.busy": "2024-07-15T18:16:40.919301Z",
          "iopub.execute_input": "2024-07-15T18:16:40.919727Z",
          "iopub.status.idle": "2024-07-15T18:16:40.928018Z",
          "shell.execute_reply.started": "2024-07-15T18:16:40.919694Z",
          "shell.execute_reply": "2024-07-15T18:16:40.926684Z"
        },
        "trusted": true,
        "id": "6e_PUEo0483Y"
      },
      "execution_count": null,
      "outputs": []
    },
    {
      "cell_type": "markdown",
      "source": [
        "# Importing the Dataset"
      ],
      "metadata": {
        "id": "fqFmJpb8483Z"
      }
    },
    {
      "cell_type": "code",
      "source": [
        "df = pd.read_excel('Data.xlsx')"
      ],
      "metadata": {
        "execution": {
          "iopub.status.busy": "2024-07-15T18:16:40.930092Z",
          "iopub.execute_input": "2024-07-15T18:16:40.930453Z",
          "iopub.status.idle": "2024-07-15T18:16:42.794551Z",
          "shell.execute_reply.started": "2024-07-15T18:16:40.930425Z",
          "shell.execute_reply": "2024-07-15T18:16:42.793398Z"
        },
        "trusted": true,
        "id": "B_QxOP7Q483a"
      },
      "execution_count": null,
      "outputs": []
    },
    {
      "cell_type": "markdown",
      "source": [
        "# Exploring and Cleanning the Data"
      ],
      "metadata": {
        "id": "DNLd6pga483b"
      }
    },
    {
      "cell_type": "code",
      "source": [
        "df.head()"
      ],
      "metadata": {
        "execution": {
          "iopub.status.busy": "2024-07-15T18:16:42.796476Z",
          "iopub.execute_input": "2024-07-15T18:16:42.79681Z",
          "iopub.status.idle": "2024-07-15T18:16:42.81569Z",
          "shell.execute_reply.started": "2024-07-15T18:16:42.796781Z",
          "shell.execute_reply": "2024-07-15T18:16:42.814448Z"
        },
        "trusted": true,
        "id": "NaIBGdZw483c"
      },
      "execution_count": null,
      "outputs": []
    },
    {
      "cell_type": "code",
      "source": [
        "# Checking length of the data\n",
        "print(f\"Data length is  {df.shape[0]}, Number of Features is {df.shape[1]}\")"
      ],
      "metadata": {
        "execution": {
          "iopub.status.busy": "2024-07-15T18:16:42.817255Z",
          "iopub.execute_input": "2024-07-15T18:16:42.817631Z",
          "iopub.status.idle": "2024-07-15T18:16:42.82481Z",
          "shell.execute_reply.started": "2024-07-15T18:16:42.8176Z",
          "shell.execute_reply": "2024-07-15T18:16:42.823426Z"
        },
        "trusted": true,
        "id": "LSrKlHOl483c"
      },
      "execution_count": null,
      "outputs": []
    },
    {
      "cell_type": "code",
      "source": [
        "# Check datatypes\n",
        "df.describe()"
      ],
      "metadata": {
        "execution": {
          "iopub.status.busy": "2024-07-15T18:16:42.827619Z",
          "iopub.execute_input": "2024-07-15T18:16:42.828032Z",
          "iopub.status.idle": "2024-07-15T18:16:42.846822Z",
          "shell.execute_reply.started": "2024-07-15T18:16:42.827998Z",
          "shell.execute_reply": "2024-07-15T18:16:42.845389Z"
        },
        "trusted": true,
        "id": "ylR9V5bU483d"
      },
      "execution_count": null,
      "outputs": []
    },
    {
      "cell_type": "markdown",
      "source": [
        "We can see that prices range between 1759 and 79512 with mean of 9087 which may indicate that we have outliers problem"
      ],
      "metadata": {
        "id": "8fAnQind483e"
      }
    },
    {
      "cell_type": "code",
      "source": [
        "#checking data types\n",
        "df.dtypes"
      ],
      "metadata": {
        "execution": {
          "iopub.status.busy": "2024-07-15T18:16:42.848122Z",
          "iopub.execute_input": "2024-07-15T18:16:42.848497Z",
          "iopub.status.idle": "2024-07-15T18:16:42.857732Z",
          "shell.execute_reply.started": "2024-07-15T18:16:42.848466Z",
          "shell.execute_reply": "2024-07-15T18:16:42.856418Z"
        },
        "trusted": true,
        "id": "60s1hq5W483f"
      },
      "execution_count": null,
      "outputs": []
    },
    {
      "cell_type": "markdown",
      "source": [
        "As we can see all features are objects except Price which means we need to change data types of Date_of_Journey, Dep_Time, Arrival_time and Duration to timestamp so we can do calculation on it easly"
      ],
      "metadata": {
        "id": "snkFXjIe483g"
      }
    },
    {
      "cell_type": "markdown",
      "source": [
        "before continue exploring we need to do some proccessing on the data so we can explort it better\n",
        "change Date_of_Journey, Dep_Time, Arrival_time and Duration to timestamp and extract needed features from it"
      ],
      "metadata": {
        "id": "OgQVc1lW483g"
      }
    },
    {
      "cell_type": "code",
      "source": [
        "#Checking None Values\n",
        "df.isnull().sum()"
      ],
      "metadata": {
        "execution": {
          "iopub.status.busy": "2024-07-15T18:16:42.859325Z",
          "iopub.execute_input": "2024-07-15T18:16:42.860033Z",
          "iopub.status.idle": "2024-07-15T18:16:42.877765Z",
          "shell.execute_reply.started": "2024-07-15T18:16:42.859999Z",
          "shell.execute_reply": "2024-07-15T18:16:42.876397Z"
        },
        "trusted": true,
        "id": "P-Wv0352483h"
      },
      "execution_count": null,
      "outputs": []
    },
    {
      "cell_type": "code",
      "source": [
        "#Since None value are too low then I will remove them\n",
        "df.dropna(inplace=True)"
      ],
      "metadata": {
        "execution": {
          "iopub.status.busy": "2024-07-15T18:16:42.879245Z",
          "iopub.execute_input": "2024-07-15T18:16:42.879785Z",
          "iopub.status.idle": "2024-07-15T18:16:42.900026Z",
          "shell.execute_reply.started": "2024-07-15T18:16:42.879681Z",
          "shell.execute_reply": "2024-07-15T18:16:42.898482Z"
        },
        "trusted": true,
        "id": "EU1YjoRf483h"
      },
      "execution_count": null,
      "outputs": []
    },
    {
      "cell_type": "code",
      "source": [
        "#Check for dublication\n",
        "df.duplicated().sum()"
      ],
      "metadata": {
        "execution": {
          "iopub.status.busy": "2024-07-15T18:16:42.901694Z",
          "iopub.execute_input": "2024-07-15T18:16:42.902132Z",
          "iopub.status.idle": "2024-07-15T18:16:42.926553Z",
          "shell.execute_reply.started": "2024-07-15T18:16:42.902088Z",
          "shell.execute_reply": "2024-07-15T18:16:42.925383Z"
        },
        "trusted": true,
        "id": "HlD5TpYj483i"
      },
      "execution_count": null,
      "outputs": []
    },
    {
      "cell_type": "code",
      "source": [
        "df.drop_duplicates(inplace=True)"
      ],
      "metadata": {
        "execution": {
          "iopub.status.busy": "2024-07-15T18:16:42.928339Z",
          "iopub.execute_input": "2024-07-15T18:16:42.928873Z",
          "iopub.status.idle": "2024-07-15T18:16:42.953857Z",
          "shell.execute_reply.started": "2024-07-15T18:16:42.928833Z",
          "shell.execute_reply": "2024-07-15T18:16:42.952389Z"
        },
        "trusted": true,
        "id": "xax33aJH483i"
      },
      "execution_count": null,
      "outputs": []
    },
    {
      "cell_type": "code",
      "source": [
        "def change_into_datetime(col):\n",
        "    df[col] = pd.to_datetime(df[col])\n",
        "\n",
        "for i in ['Date_of_Journey','Dep_Time', 'Arrival_Time']:\n",
        "    change_into_datetime(i)"
      ],
      "metadata": {
        "execution": {
          "iopub.status.busy": "2024-07-15T18:16:42.958908Z",
          "iopub.execute_input": "2024-07-15T18:16:42.959411Z",
          "iopub.status.idle": "2024-07-15T18:16:43.071452Z",
          "shell.execute_reply.started": "2024-07-15T18:16:42.95937Z",
          "shell.execute_reply": "2024-07-15T18:16:43.070378Z"
        },
        "trusted": true,
        "id": "fPb-crwK483i"
      },
      "execution_count": null,
      "outputs": []
    },
    {
      "cell_type": "code",
      "source": [
        "# Function to convert Timestamp to 'HH.MM'\n",
        "def convert_time(timestamp,base=60):\n",
        "    hours = timestamp.hour\n",
        "    minutes = timestamp.minute\n",
        "    decimal_minutes = minutes / base\n",
        "    return round(hours + decimal_minutes, 2)\n",
        "\n",
        "# Apply the conversion\n",
        "df['Dep_Time'] = df['Dep_Time'].apply(convert_time)"
      ],
      "metadata": {
        "execution": {
          "iopub.status.busy": "2024-07-15T18:16:43.073004Z",
          "iopub.execute_input": "2024-07-15T18:16:43.073448Z",
          "iopub.status.idle": "2024-07-15T18:16:43.114583Z",
          "shell.execute_reply.started": "2024-07-15T18:16:43.07341Z",
          "shell.execute_reply": "2024-07-15T18:16:43.1134Z"
        },
        "trusted": true,
        "id": "w2-U92h0483j"
      },
      "execution_count": null,
      "outputs": []
    },
    {
      "cell_type": "code",
      "source": [
        "df['Arrival_Time'] = df['Arrival_Time'].apply(convert_time)"
      ],
      "metadata": {
        "execution": {
          "iopub.status.busy": "2024-07-15T18:16:43.11603Z",
          "iopub.execute_input": "2024-07-15T18:16:43.116518Z",
          "iopub.status.idle": "2024-07-15T18:16:43.153774Z",
          "shell.execute_reply.started": "2024-07-15T18:16:43.116483Z",
          "shell.execute_reply": "2024-07-15T18:16:43.152369Z"
        },
        "trusted": true,
        "id": "J8mWC48W483j"
      },
      "execution_count": null,
      "outputs": []
    },
    {
      "cell_type": "code",
      "source": [
        "df['Month_of_Journey'] = pd.to_datetime(df['Date_of_Journey'], format='%d/%m/%Y').dt.month\n",
        "df['Day_of_Journey'] = pd.to_datetime(df['Date_of_Journey'], format='%d/%m/%Y').dt.day\n",
        "df['Date_of_Journey_timeStamp'] = pd.to_datetime(df['Date_of_Journey'], format='%d/%m/%Y')"
      ],
      "metadata": {
        "execution": {
          "iopub.status.busy": "2024-07-15T18:16:43.155411Z",
          "iopub.execute_input": "2024-07-15T18:16:43.155844Z",
          "iopub.status.idle": "2024-07-15T18:16:43.216632Z",
          "shell.execute_reply.started": "2024-07-15T18:16:43.155803Z",
          "shell.execute_reply": "2024-07-15T18:16:43.215333Z"
        },
        "trusted": true,
        "id": "xa0vSDKt483j"
      },
      "execution_count": null,
      "outputs": []
    },
    {
      "cell_type": "code",
      "source": [
        "def convert_month(timestamp):\n",
        "    month = timestamp.month\n",
        "    day = timestamp.day\n",
        "    days_in_month = calendar.monthrange(timestamp.year, month)[1]\n",
        "    decimal_day = day / days_in_month\n",
        "    return round(month + decimal_day, 2)\n",
        "\n",
        "df['Date_of_Journey'] = df['Date_of_Journey'].apply(convert_month)"
      ],
      "metadata": {
        "execution": {
          "iopub.status.busy": "2024-07-15T18:16:43.217984Z",
          "iopub.execute_input": "2024-07-15T18:16:43.218337Z",
          "iopub.status.idle": "2024-07-15T18:16:43.25949Z",
          "shell.execute_reply.started": "2024-07-15T18:16:43.218306Z",
          "shell.execute_reply": "2024-07-15T18:16:43.258336Z"
        },
        "trusted": true,
        "id": "2_KQ_1RT483j"
      },
      "execution_count": null,
      "outputs": []
    },
    {
      "cell_type": "code",
      "source": [
        "df['Duration'] = df['Duration'].str.replace('h','*60').str.replace(' ','+').str.replace('m','*1').apply(eval)"
      ],
      "metadata": {
        "execution": {
          "iopub.status.busy": "2024-07-15T18:16:43.260956Z",
          "iopub.execute_input": "2024-07-15T18:16:43.261347Z",
          "iopub.status.idle": "2024-07-15T18:16:43.370486Z",
          "shell.execute_reply.started": "2024-07-15T18:16:43.261317Z",
          "shell.execute_reply": "2024-07-15T18:16:43.369344Z"
        },
        "trusted": true,
        "id": "zZ_Z2N5O483k"
      },
      "execution_count": null,
      "outputs": []
    },
    {
      "cell_type": "code",
      "source": [
        "df.head()"
      ],
      "metadata": {
        "execution": {
          "iopub.status.busy": "2024-07-15T18:16:43.371865Z",
          "iopub.execute_input": "2024-07-15T18:16:43.372314Z",
          "iopub.status.idle": "2024-07-15T18:16:43.39268Z",
          "shell.execute_reply.started": "2024-07-15T18:16:43.372274Z",
          "shell.execute_reply": "2024-07-15T18:16:43.391316Z"
        },
        "trusted": true,
        "id": "HMyiM5ln483k"
      },
      "execution_count": null,
      "outputs": []
    },
    {
      "cell_type": "code",
      "source": [
        "print(f\"Our data range between {df['Date_of_Journey_timeStamp'].min()} to {df['Date_of_Journey_timeStamp'].max()} whic means {(df['Date_of_Journey_timeStamp'].max()-df['Date_of_Journey_timeStamp'].min()).days} days\")"
      ],
      "metadata": {
        "execution": {
          "iopub.status.busy": "2024-07-15T18:16:43.394238Z",
          "iopub.execute_input": "2024-07-15T18:16:43.39536Z",
          "iopub.status.idle": "2024-07-15T18:16:43.404433Z",
          "shell.execute_reply.started": "2024-07-15T18:16:43.395312Z",
          "shell.execute_reply": "2024-07-15T18:16:43.403309Z"
        },
        "trusted": true,
        "id": "1wrGseal483k"
      },
      "execution_count": null,
      "outputs": []
    },
    {
      "cell_type": "markdown",
      "source": [
        "Our Data range between 2019-03-01 to 2019-06-27"
      ],
      "metadata": {
        "id": "iKYLKHSy483k"
      }
    },
    {
      "cell_type": "markdown",
      "source": [
        "### Checking unique values"
      ],
      "metadata": {
        "id": "i_LTFNhd483l"
      }
    },
    {
      "cell_type": "code",
      "source": [
        "#Checking unique values for catergorical features so we can know how many dimensions we gonna end with after encoding\n",
        "\n",
        "def features_info(feature):\n",
        "    print(df[feature].unique())\n",
        "    print(f'Number of unique values for {feature} is {len(df[feature].unique())}')"
      ],
      "metadata": {
        "execution": {
          "iopub.status.busy": "2024-07-15T18:16:43.406037Z",
          "iopub.execute_input": "2024-07-15T18:16:43.406482Z",
          "iopub.status.idle": "2024-07-15T18:16:43.413325Z",
          "shell.execute_reply.started": "2024-07-15T18:16:43.406451Z",
          "shell.execute_reply": "2024-07-15T18:16:43.412311Z"
        },
        "trusted": true,
        "id": "XPSZQfUU483l"
      },
      "execution_count": null,
      "outputs": []
    },
    {
      "cell_type": "code",
      "source": [
        "features_info('Airline')"
      ],
      "metadata": {
        "execution": {
          "iopub.status.busy": "2024-07-15T18:16:43.414732Z",
          "iopub.execute_input": "2024-07-15T18:16:43.415078Z",
          "iopub.status.idle": "2024-07-15T18:16:43.428484Z",
          "shell.execute_reply.started": "2024-07-15T18:16:43.41505Z",
          "shell.execute_reply": "2024-07-15T18:16:43.427325Z"
        },
        "trusted": true,
        "id": "gComlpyr483m"
      },
      "execution_count": null,
      "outputs": []
    },
    {
      "cell_type": "code",
      "source": [
        "features_info('Source')"
      ],
      "metadata": {
        "execution": {
          "iopub.status.busy": "2024-07-15T18:16:43.42987Z",
          "iopub.execute_input": "2024-07-15T18:16:43.430262Z",
          "iopub.status.idle": "2024-07-15T18:16:43.440525Z",
          "shell.execute_reply.started": "2024-07-15T18:16:43.430214Z",
          "shell.execute_reply": "2024-07-15T18:16:43.439285Z"
        },
        "trusted": true,
        "id": "Xtmg2ugr483n"
      },
      "execution_count": null,
      "outputs": []
    },
    {
      "cell_type": "code",
      "source": [
        "features_info('Destination')"
      ],
      "metadata": {
        "execution": {
          "iopub.status.busy": "2024-07-15T18:16:43.441849Z",
          "iopub.execute_input": "2024-07-15T18:16:43.442195Z",
          "iopub.status.idle": "2024-07-15T18:16:43.455886Z",
          "shell.execute_reply.started": "2024-07-15T18:16:43.442167Z",
          "shell.execute_reply": "2024-07-15T18:16:43.454466Z"
        },
        "trusted": true,
        "id": "uf3RJBMF483n"
      },
      "execution_count": null,
      "outputs": []
    },
    {
      "cell_type": "code",
      "source": [
        "features_info('Route')"
      ],
      "metadata": {
        "execution": {
          "iopub.status.busy": "2024-07-15T18:16:43.457393Z",
          "iopub.execute_input": "2024-07-15T18:16:43.457727Z",
          "iopub.status.idle": "2024-07-15T18:16:43.470513Z",
          "shell.execute_reply.started": "2024-07-15T18:16:43.4577Z",
          "shell.execute_reply": "2024-07-15T18:16:43.469307Z"
        },
        "trusted": true,
        "id": "t_Wcx4Wy483o"
      },
      "execution_count": null,
      "outputs": []
    },
    {
      "cell_type": "code",
      "source": [
        "features_info('Total_Stops')"
      ],
      "metadata": {
        "execution": {
          "iopub.status.busy": "2024-07-15T18:16:43.471819Z",
          "iopub.execute_input": "2024-07-15T18:16:43.472175Z",
          "iopub.status.idle": "2024-07-15T18:16:43.486433Z",
          "shell.execute_reply.started": "2024-07-15T18:16:43.472143Z",
          "shell.execute_reply": "2024-07-15T18:16:43.485296Z"
        },
        "trusted": true,
        "id": "jQ6oSdYj483o"
      },
      "execution_count": null,
      "outputs": []
    },
    {
      "cell_type": "code",
      "source": [
        "features_info('Additional_Info')"
      ],
      "metadata": {
        "execution": {
          "iopub.status.busy": "2024-07-15T18:16:43.488624Z",
          "iopub.execute_input": "2024-07-15T18:16:43.489296Z",
          "iopub.status.idle": "2024-07-15T18:16:43.498684Z",
          "shell.execute_reply.started": "2024-07-15T18:16:43.489217Z",
          "shell.execute_reply": "2024-07-15T18:16:43.497357Z"
        },
        "trusted": true,
        "id": "ukRE-Ei7483o"
      },
      "execution_count": null,
      "outputs": []
    },
    {
      "cell_type": "markdown",
      "source": [
        "we have dublication here in unique values between No info and No Info we need to combine them"
      ],
      "metadata": {
        "id": "FSS5e1MT483o"
      }
    },
    {
      "cell_type": "markdown",
      "source": [
        "After Checking the numbers of unique values for categorical data we discovered that Route needs additional processing to be ready for calculation because we cant end up with 129 extra dimensions becaues its gonna cost a lot of computaion power"
      ],
      "metadata": {
        "id": "A70_Z6Rl483p"
      }
    },
    {
      "cell_type": "markdown",
      "source": [
        "### Exploring frequency of each value in categorical data"
      ],
      "metadata": {
        "id": "J5ZU5mu6483p"
      }
    },
    {
      "cell_type": "code",
      "source": [
        "def counting_plot(feature):\n",
        "    plt.figure(figsize=(12, 6))\n",
        "    sns.countplot(x=feature, data=df)\n",
        "    plt.title(f'Count Plot of {feature}')\n",
        "    plt.xlabel(feature)\n",
        "    plt.ylabel('Count')\n",
        "    plt.xticks(rotation=90)\n",
        "    plt.show()"
      ],
      "metadata": {
        "execution": {
          "iopub.status.busy": "2024-07-15T18:16:43.500274Z",
          "iopub.execute_input": "2024-07-15T18:16:43.501081Z",
          "iopub.status.idle": "2024-07-15T18:16:43.508571Z",
          "shell.execute_reply.started": "2024-07-15T18:16:43.501048Z",
          "shell.execute_reply": "2024-07-15T18:16:43.507319Z"
        },
        "trusted": true,
        "id": "h22G8vWj483y"
      },
      "execution_count": null,
      "outputs": []
    },
    {
      "cell_type": "code",
      "source": [
        "counting_plot('Airline')"
      ],
      "metadata": {
        "execution": {
          "iopub.status.busy": "2024-07-15T18:16:43.510023Z",
          "iopub.execute_input": "2024-07-15T18:16:43.510403Z",
          "iopub.status.idle": "2024-07-15T18:16:43.878505Z",
          "shell.execute_reply.started": "2024-07-15T18:16:43.510374Z",
          "shell.execute_reply": "2024-07-15T18:16:43.877278Z"
        },
        "trusted": true,
        "id": "Dll7GUWw483z"
      },
      "execution_count": null,
      "outputs": []
    },
    {
      "cell_type": "markdown",
      "source": [
        "As we can see we can Jet Airways is the most frequent and Vistara Premium Economy, jet Airways Business, Multiple carriers Premium Economy and Trujet can be neglected due to low frequency"
      ],
      "metadata": {
        "id": "BxasEXGE483z"
      }
    },
    {
      "cell_type": "code",
      "source": [
        "counting_plot('Source')"
      ],
      "metadata": {
        "execution": {
          "iopub.status.busy": "2024-07-15T18:16:43.880016Z",
          "iopub.execute_input": "2024-07-15T18:16:43.880439Z",
          "iopub.status.idle": "2024-07-15T18:16:44.133583Z",
          "shell.execute_reply.started": "2024-07-15T18:16:43.880409Z",
          "shell.execute_reply": "2024-07-15T18:16:44.132244Z"
        },
        "trusted": true,
        "id": "DTh3w1e0483z"
      },
      "execution_count": null,
      "outputs": []
    },
    {
      "cell_type": "code",
      "source": [
        "counting_plot('Destination')"
      ],
      "metadata": {
        "execution": {
          "iopub.status.busy": "2024-07-15T18:16:44.141929Z",
          "iopub.execute_input": "2024-07-15T18:16:44.142333Z",
          "iopub.status.idle": "2024-07-15T18:16:44.417467Z",
          "shell.execute_reply.started": "2024-07-15T18:16:44.142302Z",
          "shell.execute_reply": "2024-07-15T18:16:44.416201Z"
        },
        "trusted": true,
        "id": "8F1-FNPW4830"
      },
      "execution_count": null,
      "outputs": []
    },
    {
      "cell_type": "code",
      "source": [
        "df.Route.value_counts()"
      ],
      "metadata": {
        "execution": {
          "iopub.status.busy": "2024-07-15T18:16:44.418862Z",
          "iopub.execute_input": "2024-07-15T18:16:44.419691Z",
          "iopub.status.idle": "2024-07-15T18:16:44.43033Z",
          "shell.execute_reply.started": "2024-07-15T18:16:44.419658Z",
          "shell.execute_reply": "2024-07-15T18:16:44.42917Z"
        },
        "trusted": true,
        "id": "YsXyL73S4830"
      },
      "execution_count": null,
      "outputs": []
    },
    {
      "cell_type": "markdown",
      "source": [
        "As we can see that these routes and the most populare DEL → BOM → COK, BLR → DEL, CCU → BOM → BLR"
      ],
      "metadata": {
        "id": "E3guB7YK4831"
      }
    },
    {
      "cell_type": "code",
      "source": [
        "counting_plot('Total_Stops')"
      ],
      "metadata": {
        "execution": {
          "iopub.status.busy": "2024-07-15T18:16:44.431698Z",
          "iopub.execute_input": "2024-07-15T18:16:44.432047Z",
          "iopub.status.idle": "2024-07-15T18:16:44.696479Z",
          "shell.execute_reply.started": "2024-07-15T18:16:44.432019Z",
          "shell.execute_reply": "2024-07-15T18:16:44.695143Z"
        },
        "trusted": true,
        "id": "wpl9-4F64831"
      },
      "execution_count": null,
      "outputs": []
    },
    {
      "cell_type": "markdown",
      "source": [
        "As the number of stops increases the number of people choosing it decrease this maybe due to long time or high prices we gonna discover it soon"
      ],
      "metadata": {
        "id": "kECa9u234831"
      }
    },
    {
      "cell_type": "code",
      "source": [
        "counting_plot('Additional_Info')"
      ],
      "metadata": {
        "execution": {
          "iopub.status.busy": "2024-07-15T18:16:44.698424Z",
          "iopub.execute_input": "2024-07-15T18:16:44.698767Z",
          "iopub.status.idle": "2024-07-15T18:16:45.004319Z",
          "shell.execute_reply.started": "2024-07-15T18:16:44.69874Z",
          "shell.execute_reply": "2024-07-15T18:16:45.003089Z"
        },
        "trusted": true,
        "id": "qpNqwCv44832"
      },
      "execution_count": null,
      "outputs": []
    },
    {
      "cell_type": "markdown",
      "source": [
        "We cannot say much about this No info, but it appears that travelers choose no meal. Perhaps this is due to reducing the cost of travel or because the food on the plane is of low quality or simply inbalance in our data. We need more examination."
      ],
      "metadata": {
        "id": "ByCN1UrI4832"
      }
    },
    {
      "cell_type": "code",
      "source": [
        "counting_plot('Day_of_Journey')"
      ],
      "metadata": {
        "execution": {
          "iopub.status.busy": "2024-07-15T18:16:45.005754Z",
          "iopub.execute_input": "2024-07-15T18:16:45.006184Z",
          "iopub.status.idle": "2024-07-15T18:16:45.308134Z",
          "shell.execute_reply.started": "2024-07-15T18:16:45.006136Z",
          "shell.execute_reply": "2024-07-15T18:16:45.307071Z"
        },
        "trusted": true,
        "id": "Tr_jBl3p4833"
      },
      "execution_count": null,
      "outputs": []
    },
    {
      "cell_type": "code",
      "source": [
        "counting_plot('Month_of_Journey')"
      ],
      "metadata": {
        "execution": {
          "iopub.status.busy": "2024-07-15T18:16:45.30935Z",
          "iopub.execute_input": "2024-07-15T18:16:45.30964Z",
          "iopub.status.idle": "2024-07-15T18:16:45.578399Z",
          "shell.execute_reply.started": "2024-07-15T18:16:45.309615Z",
          "shell.execute_reply": "2024-07-15T18:16:45.576991Z"
        },
        "trusted": true,
        "id": "vzdUIdhq4833"
      },
      "execution_count": null,
      "outputs": []
    },
    {
      "cell_type": "code",
      "source": [
        "counting_plot('Date_of_Journey')"
      ],
      "metadata": {
        "execution": {
          "iopub.status.busy": "2024-07-15T18:16:45.579846Z",
          "iopub.execute_input": "2024-07-15T18:16:45.580259Z",
          "iopub.status.idle": "2024-07-15T18:16:46.098193Z",
          "shell.execute_reply.started": "2024-07-15T18:16:45.580221Z",
          "shell.execute_reply": "2024-07-15T18:16:46.096919Z"
        },
        "trusted": true,
        "id": "Esd_p9944833"
      },
      "execution_count": null,
      "outputs": []
    },
    {
      "cell_type": "markdown",
      "source": [
        "We can understand that mid-year (maybe late-year but all the data we have is between months 3 and 6) is much more popular for travel.\n",
        "\n",
        "And month 4 is the least popular.\n",
        "\n",
        "And between Days 6 and 9 we can see are popular maybe because of low cost of somthing else we need more exploring"
      ],
      "metadata": {
        "id": "WU3YsqQ44834"
      }
    },
    {
      "cell_type": "markdown",
      "source": [
        "### What are the factors affecting the price?"
      ],
      "metadata": {
        "execution": {
          "iopub.status.busy": "2024-07-15T03:00:10.829664Z",
          "iopub.execute_input": "2024-07-15T03:00:10.830106Z",
          "iopub.status.idle": "2024-07-15T03:00:10.83521Z",
          "shell.execute_reply.started": "2024-07-15T03:00:10.830075Z",
          "shell.execute_reply": "2024-07-15T03:00:10.833992Z"
        },
        "id": "DtFsX0hD4834"
      }
    },
    {
      "cell_type": "code",
      "source": [
        "def feature_vs_price_in_scatter(feature, hue=None):\n",
        "    plt.figure(figsize=(12, 8))\n",
        "    if hue:\n",
        "        sns.scatterplot(x=feature, y='Price', hue=hue,alpha=0.8, data=df)\n",
        "    else:\n",
        "        sns.scatterplot(x=feature, y='Price', data=df)\n",
        "    plt.title(f'Scatter Plot of Flight Prices vs {feature}')\n",
        "    plt.xlabel(feature)\n",
        "    plt.ylabel('Price')\n",
        "    plt.show()\n",
        "\n",
        "def feature_vs_price_in_box(feature, hue=None):\n",
        "    plt.figure(figsize=(14, 8))\n",
        "    if hue:\n",
        "        sns.boxplot(x=feature, y='Price', hue=hue,alpha=0.8, data=df)\n",
        "    else:\n",
        "        sns.boxplot(x=feature, y='Price', data=df)\n",
        "\n",
        "    plt.title('Box Plot of Prices by Airline')\n",
        "    plt.xlabel('Airline')\n",
        "    plt.ylabel('Price')\n",
        "    plt.xticks(rotation=90)\n",
        "    plt.show()"
      ],
      "metadata": {
        "execution": {
          "iopub.status.busy": "2024-07-15T18:16:46.099833Z",
          "iopub.execute_input": "2024-07-15T18:16:46.100289Z",
          "iopub.status.idle": "2024-07-15T18:16:46.110159Z",
          "shell.execute_reply.started": "2024-07-15T18:16:46.10025Z",
          "shell.execute_reply": "2024-07-15T18:16:46.108904Z"
        },
        "trusted": true,
        "id": "UzvbPymN4835"
      },
      "execution_count": null,
      "outputs": []
    },
    {
      "cell_type": "code",
      "source": [
        "# Check the repation between Date and price\n",
        "feature_vs_price_in_scatter('Date_of_Journey',hue='Day_of_Journey')"
      ],
      "metadata": {
        "execution": {
          "iopub.status.busy": "2024-07-15T18:16:46.11165Z",
          "iopub.execute_input": "2024-07-15T18:16:46.112037Z",
          "iopub.status.idle": "2024-07-15T18:16:47.044836Z",
          "shell.execute_reply.started": "2024-07-15T18:16:46.112007Z",
          "shell.execute_reply": "2024-07-15T18:16:47.043732Z"
        },
        "trusted": true,
        "id": "YbboxjR04835"
      },
      "execution_count": null,
      "outputs": []
    },
    {
      "cell_type": "markdown",
      "source": [
        "We can see that the earlier time of the year is much expensive and earlier days of the month is also much expensive"
      ],
      "metadata": {
        "id": "HmLAC_qv4836"
      }
    },
    {
      "cell_type": "code",
      "source": [
        "# Check the relation between Dep_Time and Price\n",
        "feature_vs_price_in_scatter('Dep_Time')"
      ],
      "metadata": {
        "execution": {
          "iopub.status.busy": "2024-07-15T18:16:47.046379Z",
          "iopub.execute_input": "2024-07-15T18:16:47.046858Z",
          "iopub.status.idle": "2024-07-15T18:16:47.364888Z",
          "shell.execute_reply.started": "2024-07-15T18:16:47.046804Z",
          "shell.execute_reply": "2024-07-15T18:16:47.363738Z"
        },
        "trusted": true,
        "id": "6I2l8ahd4836"
      },
      "execution_count": null,
      "outputs": []
    },
    {
      "cell_type": "markdown",
      "source": [
        "No relation between Dep_time and Price"
      ],
      "metadata": {
        "id": "uZF5XAGb4836"
      }
    },
    {
      "cell_type": "code",
      "source": [
        "# Check the relation between Arrival_Time and Price\n",
        "feature_vs_price_in_scatter('Arrival_Time')"
      ],
      "metadata": {
        "execution": {
          "iopub.status.busy": "2024-07-15T18:16:47.366178Z",
          "iopub.execute_input": "2024-07-15T18:16:47.366511Z",
          "iopub.status.idle": "2024-07-15T18:16:47.730788Z",
          "shell.execute_reply.started": "2024-07-15T18:16:47.366483Z",
          "shell.execute_reply": "2024-07-15T18:16:47.729639Z"
        },
        "trusted": true,
        "id": "lUbTmQyh4837"
      },
      "execution_count": null,
      "outputs": []
    },
    {
      "cell_type": "markdown",
      "source": [
        "No relation between Arrival_Time and Price"
      ],
      "metadata": {
        "id": "1FxGl6z24837"
      }
    },
    {
      "cell_type": "code",
      "source": [
        "# Check the relation between Duration and Price\n",
        "feature_vs_price_in_scatter('Duration',hue='Day_of_Journey')"
      ],
      "metadata": {
        "execution": {
          "iopub.status.busy": "2024-07-15T18:16:47.732422Z",
          "iopub.execute_input": "2024-07-15T18:16:47.733643Z",
          "iopub.status.idle": "2024-07-15T18:16:48.723711Z",
          "shell.execute_reply.started": "2024-07-15T18:16:47.733596Z",
          "shell.execute_reply": "2024-07-15T18:16:48.722507Z"
        },
        "trusted": true,
        "id": "9Qdn0FBO4838"
      },
      "execution_count": null,
      "outputs": []
    },
    {
      "cell_type": "code",
      "source": [
        "feature_vs_price_in_scatter('Duration',hue='Month_of_Journey')"
      ],
      "metadata": {
        "execution": {
          "iopub.status.busy": "2024-07-15T18:16:48.725561Z",
          "iopub.execute_input": "2024-07-15T18:16:48.726003Z",
          "iopub.status.idle": "2024-07-15T18:16:49.672463Z",
          "shell.execute_reply.started": "2024-07-15T18:16:48.725963Z",
          "shell.execute_reply": "2024-07-15T18:16:49.671382Z"
        },
        "trusted": true,
        "id": "v2DT_W_f4838"
      },
      "execution_count": null,
      "outputs": []
    },
    {
      "cell_type": "code",
      "source": [
        "feature_vs_price_in_scatter('Duration',hue='Total_Stops')"
      ],
      "metadata": {
        "execution": {
          "iopub.status.busy": "2024-07-15T18:16:49.673731Z",
          "iopub.execute_input": "2024-07-15T18:16:49.674059Z",
          "iopub.status.idle": "2024-07-15T18:16:50.438317Z",
          "shell.execute_reply.started": "2024-07-15T18:16:49.674031Z",
          "shell.execute_reply": "2024-07-15T18:16:50.437203Z"
        },
        "trusted": true,
        "id": "9xb6pa3F483_"
      },
      "execution_count": null,
      "outputs": []
    },
    {
      "cell_type": "code",
      "source": [
        "feature_vs_price_in_scatter('Duration',hue='Airline')"
      ],
      "metadata": {
        "execution": {
          "iopub.status.busy": "2024-07-15T18:16:50.439644Z",
          "iopub.execute_input": "2024-07-15T18:16:50.439978Z",
          "iopub.status.idle": "2024-07-15T18:16:51.375415Z",
          "shell.execute_reply.started": "2024-07-15T18:16:50.43995Z",
          "shell.execute_reply": "2024-07-15T18:16:51.374094Z"
        },
        "trusted": true,
        "id": "e7lHOE3w483_"
      },
      "execution_count": null,
      "outputs": []
    },
    {
      "cell_type": "code",
      "source": [
        "feature_vs_price_in_scatter('Duration',hue='Additional_Info')"
      ],
      "metadata": {
        "execution": {
          "iopub.status.busy": "2024-07-15T18:16:51.37665Z",
          "iopub.execute_input": "2024-07-15T18:16:51.376993Z",
          "iopub.status.idle": "2024-07-15T18:16:52.275159Z",
          "shell.execute_reply.started": "2024-07-15T18:16:51.376962Z",
          "shell.execute_reply": "2024-07-15T18:16:52.273987Z"
        },
        "trusted": true,
        "id": "TbeMbk79483_"
      },
      "execution_count": null,
      "outputs": []
    },
    {
      "cell_type": "code",
      "source": [
        "feature_vs_price_in_scatter('Duration',hue='Source')"
      ],
      "metadata": {
        "execution": {
          "iopub.status.busy": "2024-07-15T18:16:52.276681Z",
          "iopub.execute_input": "2024-07-15T18:16:52.277086Z",
          "iopub.status.idle": "2024-07-15T18:16:53.042914Z",
          "shell.execute_reply.started": "2024-07-15T18:16:52.277053Z",
          "shell.execute_reply": "2024-07-15T18:16:53.041813Z"
        },
        "trusted": true,
        "id": "bBQociJN484A"
      },
      "execution_count": null,
      "outputs": []
    },
    {
      "cell_type": "code",
      "source": [
        "feature_vs_price_in_scatter('Duration',hue='Destination')"
      ],
      "metadata": {
        "execution": {
          "iopub.status.busy": "2024-07-15T18:16:53.044157Z",
          "iopub.execute_input": "2024-07-15T18:16:53.044451Z",
          "iopub.status.idle": "2024-07-15T18:16:53.861907Z",
          "shell.execute_reply.started": "2024-07-15T18:16:53.044424Z",
          "shell.execute_reply": "2024-07-15T18:16:53.86071Z"
        },
        "trusted": true,
        "id": "8bvsU9GM484A"
      },
      "execution_count": null,
      "outputs": []
    },
    {
      "cell_type": "code",
      "source": [
        "latitude = {\n",
        "    'New Delhi': 28.6139,\n",
        "    'Banglore': 12.9716,\n",
        "    'Cochin': 9.9312,\n",
        "    'Kolkata': 22.5726,\n",
        "    'Delhi': 28.7041,\n",
        "    'Hyderabad': 17.3850\n",
        "}\n",
        "df['D_latitude'] = df['Destination'].map(latitude)\n",
        "\n",
        "longitude = {\n",
        "    'New Delhi': 77.2090,\n",
        "    'Banglore': 77.5946,\n",
        "    'Cochin': 76.2673,\n",
        "    'Kolkata': 88.3639,\n",
        "    'Delhi': 77.1025,\n",
        "    'Hyderabad': 78.4867\n",
        "}\n",
        "df['D_longitude'] = df['Destination'].map(longitude)"
      ],
      "metadata": {
        "execution": {
          "iopub.status.busy": "2024-07-15T18:16:53.863249Z",
          "iopub.execute_input": "2024-07-15T18:16:53.863567Z",
          "iopub.status.idle": "2024-07-15T18:16:53.874957Z",
          "shell.execute_reply.started": "2024-07-15T18:16:53.86354Z",
          "shell.execute_reply": "2024-07-15T18:16:53.873745Z"
        },
        "trusted": true,
        "id": "yTQtTwoZ484D"
      },
      "execution_count": null,
      "outputs": []
    },
    {
      "cell_type": "code",
      "source": [
        "S_longitude = {\n",
        "    'Banglore': 77.5946,\n",
        "    'Kolkata': 88.3639,\n",
        "    'Delhi': 77.1025,\n",
        "    'Chennai': 80.2707,\n",
        "    'Mumbai': 72.8777\n",
        "}\n",
        "df['S_longitude'] = df['Source'].map(S_longitude)\n",
        "\n",
        "S_latitude = {\n",
        "    'Banglore': 12.9716,\n",
        "    'Kolkata': 22.5726,\n",
        "    'Delhi': 28.7041,\n",
        "    'Chennai': 13.0827,\n",
        "    'Mumbai': 19.0760\n",
        "}\n",
        "df['S_latitude'] = df['Source'].map(S_latitude)"
      ],
      "metadata": {
        "execution": {
          "iopub.status.busy": "2024-07-15T18:16:53.876397Z",
          "iopub.execute_input": "2024-07-15T18:16:53.876761Z",
          "iopub.status.idle": "2024-07-15T18:16:53.891981Z",
          "shell.execute_reply.started": "2024-07-15T18:16:53.876734Z",
          "shell.execute_reply": "2024-07-15T18:16:53.890707Z"
        },
        "trusted": true,
        "id": "4HLKjF_g484D"
      },
      "execution_count": null,
      "outputs": []
    },
    {
      "cell_type": "markdown",
      "source": [
        "Factors that Effect The Price\n",
        "\n",
        "1. **Duration** slightly effects increasing of price but most of flights stay under 20000 price unite and less than 1700 minutes.\n",
        "\n",
        "1. **Month of the Year** Hugely effect the Price at month 3 people are willing to pay more and take longer flight this might.\n",
        "be for these reasons.\n",
        "\n",
        "    * **Seasonality and Holidays**: March falls within peak travel seasons or holidays in many regions. For example, spring break in various countries, festivals, or school holidays can lead to increased demand for flights, which in turn can drive up prices.\n",
        "\n",
        "    * **Weather Conditions**: Weather can significantly impact travel preferences. March might offer more favorable weather conditions in certain destinations, making it a preferred time to travel. This could lead to higher demand and subsequently higher prices.\n",
        "\n",
        "    * **Business Travel**: March may coincide with important business events, conferences, or trade shows, leading to increased business travel. Business travelers often have more flexible budgets or are reimbursed for travel expenses, which can contribute to higher ticket prices.\n",
        "\n",
        "    * **Supply and Demand Dynamics**: Airlines adjust their pricing based on supply and demand dynamics. If demand for flights exceeds available seats (supply), airlines may raise prices. Higher prices can also incentivize airlines to operate longer flights or use larger aircraft to meet demand.\n",
        "\n",
        "    * **Travel Preferences**: Personal or cultural preferences may also play a role. Some travelers may have specific reasons for choosing March, such as cultural events, family gatherings, or personal milestones, which justify longer and more expensive flights.\n",
        "\n",
        "    * **Booking Patterns**: Booking patterns can influence pricing. If travelers book flights well in advance for March, airlines may adjust prices based on anticipated demand. Last-minute bookings or peak travel periods can also affect ticket prices.\n",
        "    \n",
        "1. **Day of the Month**: People are willing to pay more and travel longer during the early days of the month, while during the late days of the month they are still willing to travel longer but not paying more.\n",
        "\n",
        "    * **Early Days of the Month**\n",
        "        * **Income Cycles**:\n",
        "\n",
        "            * **Salary Payments**: Many people receive their salaries at the beginning of the month. With fresh funds available, they might be more willing to spend on higher-priced tickets and plan longer trips.\n",
        "            Disposable Income: At the start of the month, disposable income is typically higher, leading to a greater willingness to spend on travel.\n",
        "        * **Planning and Scheduling**:\n",
        "\n",
        "            * **Work and Personal Schedules**: People might plan trips at the beginning of the month to align with their work schedules, avoiding the rush towards month-end deadlines.\n",
        "            Vacation Planning: Early month trips can be strategically planned to maximize the use of vacation days and return in time for any end-of-month responsibilities.\n",
        "        * **Promotions and Offers**:\n",
        "\n",
        "            * **Travel Deals**: Airlines and travel agencies often release promotions and discounts at the beginning of the month, incentivizing early bookings at potentially higher prices for longer trips.\n",
        "    * **Late Days of the Month**\n",
        "        * **Budget Constraints**:\n",
        "\n",
        "            * **Reduced Disposable Income**: As the month progresses, disposable income tends to decrease due to the cumulative effect of expenses. This can lead to more budget-conscious travel decisions, such as looking for cheaper fares while still being willing to travel longer distances.\n",
        "            * **Saving for Necessities**: People may start saving towards the end of the month for upcoming essential expenses, making them less likely to pay premium prices for travel.\n",
        "        * **Flexibility and Last-Minute Travel**:\n",
        "\n",
        "            * **Last-Minute Plans**: Late-month travelers might be those making last-minute plans. While they are willing to travel longer distances, they might prioritize finding more affordable tickets due to remaining budget constraints.\n",
        "            * **Extended Stays**: People who plan to travel towards the end of the month might do so with the intention of staying through the beginning of the next month, hence looking for cost-effective options for extended trips.\n",
        "        * **Airline Pricing Strategies**:\n",
        "\n",
        "            * **Dynamic Pricing**: Airlines often adjust prices based on demand and booking patterns. Towards the end of the month, if seats are still available, airlines might lower prices to fill up the remaining seats, making travel more affordable even for longer distances.\n",
        "\n",
        "1. **Number of Stops**: Increasing number of stops while decreasing the Duration reflected on Price increase, **None-Stops** concentrated on bottom-left side with least Duration and Price but sometimes break the 20000 limit, and **1-stop** are willing more than anyone to pay more to travel faster, but **2-stops** prefer to spend more time than travel faster, and 3-stops prefere to spend more time than travel faster at all.\n",
        "    * **Convenience and Demand**\n",
        "        * **Direct Flights**: Non-stop flights are the most convenient option for travelers as they offer the shortest travel time and eliminate the hassle of layovers. The higher demand for this convenience often drives up the price.\n",
        "        * **Reduced Travel Fatigue**: Passengers prefer fewer stops to avoid the additional stress and fatigue associated with multiple layovers. This preference leads to higher demand and allows airlines to charge a premium.\n",
        "    * **Airline Economics**\n",
        "        * **Operational Costs**: Direct flights typically have lower operational costs per passenger mile compared to flights with multiple stops, which require more fuel for takeoffs and landings, additional airport fees, and handling costs.\n",
        "        * **Aircraft Utilization**: Airlines aim to maximize aircraft utilization. Direct flights often fit better into an airline's scheduling and operational efficiency, allowing for higher ticket prices.\n",
        "        * **Revenue Management**: Airlines use sophisticated revenue management systems to price tickets based on demand and supply. Non-stop flights, being more in demand, are priced higher to maximize revenue.\n",
        "    * **Market Segmentation**\n",
        "        * **Business Travelers**: Business travelers, who are less price-sensitive, often prefer non-stop flights for the time savings and convenience. Airlines target this segment with higher prices.\n",
        "        * **Premium Services**: Non-stop and fewer-stop flights may offer better services and amenities, which appeal to premium customers willing to pay more for enhanced comfort and convenience.\n",
        "    * **Competitive Dynamics**\n",
        "        * **Route Competition**: Non-stop flights often have less competition on popular routes, allowing airlines to charge higher prices. Flights with multiple stops might compete on price to attract more budget-conscious travelers.\n",
        "        * **Hub-and-Spoke Model**: Many airlines operate on a hub-and-spoke model where non-stop flights are more frequent and strategically priced. Connecting flights through hubs may be cheaper but involve longer travel times.\n",
        "    * **Supply and Demand**\n",
        "        * **Seat Availability**: Non-stop and fewer-stop flights might have fewer seats available due to higher demand, leading to higher prices. Longer travel time flights may have more seat availability, leading to lower prices.\n",
        "        * **Dynamic Pricing**: Airlines adjust prices dynamically based on real-time demand. High-demand direct flights see prices rise quickly, while lower-demand longer flights may see more discounts.\n",
        "    * **Customer Preferences**\n",
        "        * **Time vs. Cost Trade-off**: Many travelers are willing to pay more for the convenience of shorter travel times, valuing their time over cost savings. This willingness to pay drives up prices for non-stop and fewer-stop flights.\n",
        "        * **Booking Patterns**: Last-minute travelers often prefer direct flights to minimize travel time, leading to higher prices due to increased demand closer to the travel date.\n",
        "1. **Company**: Jet Airwars can cost more at Duration Decrease but number of stops increase, and Jet Airwars Business always high over 40000.\n",
        "1. **Meal**: people prefer no meal in flight around 10000 and Duration between 250 and 1800 minutes\n",
        "1. **Business Class**: Pay more and spend less time.\n",
        "    1. Convenience and Time Sensitivity\n",
        "        * **Time is Money**: Business travelers prioritize time efficiency because time saved can translate into productivity and revenue for their companies. As a result, they are willing to pay more for direct flights that minimize travel time.\n",
        "        * **Tight Schedules**: Business travelers often have tight schedules with back-to-back meetings, conferences, or events. Direct flights and flights with fewer stops help them adhere to these schedules more effectively.\n",
        "    2. Corporate Travel Policies\n",
        "        * **Expense Accounts**: Many businesses provide travel expense accounts for their employees, allowing them to book more expensive, convenient flights without personal financial burden. This increases the demand for higher-priced, time-efficient travel options.\n",
        "        * **Travel Management**: Companies often use corporate travel management services that prioritize efficiency and reliability over cost savings, leading to a preference for more expensive, direct flights.\n",
        "    3. Airline Pricing Strategies\n",
        "        * **Revenue Management**: Airlines use sophisticated revenue management systems to maximize profits. They know that business travelers are less price-sensitive and more time-sensitive, so they price direct flights higher to capture this segment of the market.\n",
        "        * **Premium Services**: Airlines often provide additional services and amenities for business travelers, such as priority boarding, extra legroom, in-flight Wi-Fi, and dedicated business class sections. These added services justify higher ticket prices.\n",
        "    4. Demand and Supply Dynamics\n",
        "        * **Peak Demand**: Business travel demand tends to be concentrated during weekdays and peak business hours. Airlines adjust prices higher during these times to capitalize on the increased demand.\n",
        "        * **Less Price Elasticity**: Business travelers typically book flights closer to the travel date and are less sensitive to price changes, giving airlines the opportunity to charge higher prices.\n",
        "    5. Airport and Route Considerations\n",
        "        * **Primary Airports**: Business travelers often fly to and from major airports located in business hubs. These airports typically have higher landing fees and operational costs, contributing to higher ticket prices.\n",
        "        * **Frequent Flyer Programs**: Business travelers often participate in frequent flyer programs, encouraging them to choose specific airlines that offer direct and convenient routes, even at a higher cost.\n",
        "    6. Market Segmentation\n",
        "        * **Business Class and Premium Economy**: Airlines offer different classes of service tailored to business travelers, such as business class and premium economy. These classes come with higher prices due to the enhanced comfort, space, and services provided.\n",
        "        * **Loyalty and Rewards Programs**: Business travelers are often part of loyalty and rewards programs, which can drive them to choose specific airlines and routes that offer direct flights and premium services, contributing to higher prices.\n",
        "1. Source and Destination: Source and Destination can effect the price due to Distance.\n",
        "    * **Distance**: Longer distances generally require more fuel, leading to higher operational costs. This is often reflected in ticket prices.\n",
        "    * **Airport Fees**: Different airports have varying landing fees, gate fees, and other charges. Airports in major cities or business hubs typically have higher fees, contributing to higher ticket prices.\n",
        "    * **Demand**: High-demand routes (e.g., between major cities or popular tourist destinations) tend to have higher prices due to the increased willingness of travelers to pay.\n",
        "    * **Local Economy**: The economic conditions of the source and destination regions can influence ticket prices. Higher-income areas might see higher prices as residents can afford to pay more.\n",
        "    * **Business Travel**: Cities with a significant amount of business travel typically have higher ticket prices, especially during weekdays.\n",
        "    * **Seasonal Demand**: Certain routes experience seasonal demand peaks (e.g., holiday seasons, summer vacations, winter getaways) that drive up prices.\n",
        "    * **Local Events**: Major events (conferences, festivals, sports events) in the source or destination can increase demand and ticket prices.\n",
        "    * **Frequency**: Routes with frequent flights may have lower prices due to the higher availability of seats. Conversely, routes with limited flights may have higher prices.\n",
        "    * **Flight Availability**: Limited availability of flights on certain routes, especially non-stop options, can lead to higher prices.\n",
        "    * **Operational Hubs**: Flights to and from an airline's operational hubs are often cheaper due to the efficiency of scale. Non-hub routes might be more expensive.\n",
        "    * **Crew and Maintenance**: The costs associated with crew salaries, aircraft maintenance, and other operational factors can vary based on the source and destination.\n",
        "    "
      ],
      "metadata": {
        "id": "s2QhQqGs484E"
      }
    },
    {
      "cell_type": "markdown",
      "source": [
        "# Pre-processing for Customers Segementaion"
      ],
      "metadata": {
        "execution": {
          "iopub.status.busy": "2024-07-15T06:04:52.879237Z",
          "iopub.execute_input": "2024-07-15T06:04:52.879711Z",
          "iopub.status.idle": "2024-07-15T06:04:52.885688Z",
          "shell.execute_reply.started": "2024-07-15T06:04:52.879676Z",
          "shell.execute_reply": "2024-07-15T06:04:52.884113Z"
        },
        "id": "o727AADM484F"
      }
    },
    {
      "cell_type": "markdown",
      "source": [
        "## Add travel Distance columns"
      ],
      "metadata": {
        "id": "vQnBcWHw484G"
      }
    },
    {
      "cell_type": "markdown",
      "source": [
        "We have All city symbols we can use them to get their coordinates and then calculate the travel distance in kilometers\n",
        "\n",
        "Note: we can try target encoding with the Price with the result in 6 columns then divided them by their orders then sum them up but the coordinates approach gives a better explanation for variation"
      ],
      "metadata": {
        "id": "qlTMuqR8484G"
      }
    },
    {
      "cell_type": "markdown",
      "source": [
        "first we split them with ' → ' and add them again to column 'Route'"
      ],
      "metadata": {
        "id": "101glIcm484H"
      }
    },
    {
      "cell_type": "code",
      "source": [
        "df['Route'] = df['Route'].str.split(' → ')"
      ],
      "metadata": {
        "execution": {
          "iopub.status.busy": "2024-07-15T18:16:53.893519Z",
          "iopub.execute_input": "2024-07-15T18:16:53.894277Z",
          "iopub.status.idle": "2024-07-15T18:16:53.916983Z",
          "shell.execute_reply.started": "2024-07-15T18:16:53.894236Z",
          "shell.execute_reply": "2024-07-15T18:16:53.915718Z"
        },
        "trusted": true,
        "id": "1wzktb3R484H"
      },
      "execution_count": null,
      "outputs": []
    },
    {
      "cell_type": "code",
      "source": [
        "city_coordinates_dict = {\n",
        "    'AMD': (23.0734, 72.6268), 'ATQ': (31.7055, 74.7973), 'BBI': (20.2445, 85.8178),\n",
        "    'BDQ': (22.3368, 73.2263), 'BHO': (23.2871, 77.3378), 'BLR': (12.9724, 77.5806),\n",
        "    'BOM': (19.0896, 72.8656), 'CCU': (22.6540, 88.4467), 'COK': (10.1520, 76.3922),\n",
        "    'DED': (30.3165, 78.0322), 'DEL': (28.6139, 77.2090), 'GAU': (26.1060, 91.5852),\n",
        "    'GOI': (15.3808, 73.8314), 'GWL': (26.2937, 78.1956), 'HBX': (15.3600, 75.0849),\n",
        "    'HYD': (17.2315, 78.4294), 'IDR': (22.7210, 75.8682), 'IMF': (24.7597, 93.8967),\n",
        "    'ISK': (17.7219, 73.2172), 'IXA': (23.8860, 91.2404), 'IXB': (27.2676, 88.6065),\n",
        "    'IXC': (30.6737, 76.7889), 'IXR': (23.3175, 85.3213), 'IXU': (19.8627, 75.3962),\n",
        "    'IXZ': (11.6415, 92.7297), 'JAI': (26.9124, 75.7873), 'JDH': (26.2517, 73.0489),\n",
        "    'JLR': (12.9604, 77.6413), 'KNU': (26.4043, 80.4108), 'LKO': (26.8467, 80.9462),\n",
        "    'MAA': (13.0827, 80.2707), 'NAG': (21.0914, 79.0479), 'NDC': (19.1833, 73.0255),\n",
        "    'PAT': (25.5941, 85.1356), 'PNQ': (18.5822, 73.9196), 'RPR': (21.1809, 81.7383),\n",
        "    'STV': (21.1140, 72.7411), 'TRV': (8.4821, 76.9204), 'UDR': (24.6173, 73.8963),\n",
        "    'VGA': (16.5302, 80.7960), 'VNS': (25.3176, 82.9739), 'VTZ': (17.7215, 83.2991)\n",
        "}"
      ],
      "metadata": {
        "execution": {
          "iopub.status.busy": "2024-07-15T18:16:53.918456Z",
          "iopub.execute_input": "2024-07-15T18:16:53.919146Z",
          "iopub.status.idle": "2024-07-15T18:16:53.930891Z",
          "shell.execute_reply.started": "2024-07-15T18:16:53.919094Z",
          "shell.execute_reply": "2024-07-15T18:16:53.929803Z"
        },
        "trusted": true,
        "id": "Ndbv14Pb484H"
      },
      "execution_count": null,
      "outputs": []
    },
    {
      "cell_type": "code",
      "source": [
        "from math import radians, sin, cos, sqrt, atan2\n",
        "\n",
        "def haversine_distance_between_cities(city_list,city_coordinates_dict=city_coordinates_dict):\n",
        "    \"\"\"\n",
        "    Calculate the total travel distance in kilometers between a list of cities\n",
        "    specified by their names, using a dictionary of city coordinates.\n",
        "\n",
        "    city_coordinates_dict: Dictionary mapping city names to (latitude, longitude) coordinates.\n",
        "                           Example: {'DEL': (28.6139, 77.2090), 'BLR': (12.9716, 77.5946), ...}\n",
        "\n",
        "    city_list: List of city codes in the order of travel.\n",
        "               Example: ['DEL', 'BLR', ...]\n",
        "\n",
        "    Returns the total travel distance in kilometers.\n",
        "    \"\"\"\n",
        "    total_distance = 0.0\n",
        "\n",
        "    # Iterate through consecutive pairs of cities in the city_list\n",
        "    for i in range(len(city_list) - 1):\n",
        "        city1 = city_list[i]\n",
        "        city2 = city_list[i + 1]\n",
        "\n",
        "        # Retrieve coordinates from the city_coordinates_dict\n",
        "        lat1, lon1 = city_coordinates_dict[city1]\n",
        "        lat2, lon2 = city_coordinates_dict[city2]\n",
        "\n",
        "        # Convert latitude and longitude from degrees to radians\n",
        "        lat1, lon1, lat2, lon2 = map(radians, [lat1, lon1, lat2, lon2])\n",
        "\n",
        "        # Haversine formula\n",
        "        dlon = lon2 - lon1\n",
        "        dlat = lat2 - lat1\n",
        "        a = sin(dlat/2)**2 + cos(lat1) * cos(lat2) * sin(dlon/2)**2\n",
        "        c = 2 * atan2(sqrt(a), sqrt(1-a))\n",
        "\n",
        "        # Radius of the Earth in kilometers\n",
        "        R = 6371.0\n",
        "\n",
        "        # Calculate the distance between consecutive cities\n",
        "        distance = R * c\n",
        "\n",
        "        # Add to the total distance\n",
        "        total_distance += distance\n",
        "\n",
        "    return total_distance"
      ],
      "metadata": {
        "execution": {
          "iopub.status.busy": "2024-07-15T18:16:53.932335Z",
          "iopub.execute_input": "2024-07-15T18:16:53.932754Z",
          "iopub.status.idle": "2024-07-15T18:16:53.946829Z",
          "shell.execute_reply.started": "2024-07-15T18:16:53.932725Z",
          "shell.execute_reply": "2024-07-15T18:16:53.945685Z"
        },
        "trusted": true,
        "id": "Tt-ZRyiY484I"
      },
      "execution_count": null,
      "outputs": []
    },
    {
      "cell_type": "code",
      "source": [
        "df['Travel_distance'] = df['Route'].apply(haversine_distance_between_cities)"
      ],
      "metadata": {
        "execution": {
          "iopub.status.busy": "2024-07-15T18:16:53.94852Z",
          "iopub.execute_input": "2024-07-15T18:16:53.948944Z",
          "iopub.status.idle": "2024-07-15T18:16:54.00277Z",
          "shell.execute_reply.started": "2024-07-15T18:16:53.948905Z",
          "shell.execute_reply": "2024-07-15T18:16:54.00169Z"
        },
        "trusted": true,
        "id": "V1Ug9UGb484J"
      },
      "execution_count": null,
      "outputs": []
    },
    {
      "cell_type": "markdown",
      "source": [
        "Encode Categorical data with one-hot-encoding"
      ],
      "metadata": {
        "id": "JsQf4wff484J"
      }
    },
    {
      "cell_type": "code",
      "source": [
        "# Dealing with companies Catergorical Values replaceing these values by others because their frequancy is so low and can be neglected\n",
        "df['Airline'] = df['Airline'].replace('Multiple carriers Premium economy', 'Other')\n",
        "df['Airline'] = df['Airline'].replace('Jet Airways Business', 'Other')\n",
        "df['Airline'] = df['Airline'].replace('Vistara Premium economy', 'Other')\n",
        "df['Airline'] = df['Airline'].replace('Trujet', 'Other')"
      ],
      "metadata": {
        "execution": {
          "iopub.status.busy": "2024-07-15T18:16:54.004288Z",
          "iopub.execute_input": "2024-07-15T18:16:54.004685Z",
          "iopub.status.idle": "2024-07-15T18:16:54.018935Z",
          "shell.execute_reply.started": "2024-07-15T18:16:54.004653Z",
          "shell.execute_reply": "2024-07-15T18:16:54.017706Z"
        },
        "trusted": true,
        "id": "H-i44U3y484J"
      },
      "execution_count": null,
      "outputs": []
    },
    {
      "cell_type": "code",
      "source": [
        "df['Airline'].value_counts()"
      ],
      "metadata": {
        "execution": {
          "iopub.status.busy": "2024-07-15T18:16:54.020235Z",
          "iopub.execute_input": "2024-07-15T18:16:54.020563Z",
          "iopub.status.idle": "2024-07-15T18:16:54.038012Z",
          "shell.execute_reply.started": "2024-07-15T18:16:54.020535Z",
          "shell.execute_reply": "2024-07-15T18:16:54.036684Z"
        },
        "trusted": true,
        "id": "tmUauaBT484K"
      },
      "execution_count": null,
      "outputs": []
    },
    {
      "cell_type": "code",
      "source": [
        "Airline=pd.get_dummies(df['Airline'], drop_first=True).astype(int)\n",
        "Airline.head()"
      ],
      "metadata": {
        "execution": {
          "iopub.status.busy": "2024-07-15T18:16:54.039687Z",
          "iopub.execute_input": "2024-07-15T18:16:54.04014Z",
          "iopub.status.idle": "2024-07-15T18:16:54.057633Z",
          "shell.execute_reply.started": "2024-07-15T18:16:54.040088Z",
          "shell.execute_reply": "2024-07-15T18:16:54.056679Z"
        },
        "trusted": true,
        "id": "r6iqAd0p484K"
      },
      "execution_count": null,
      "outputs": []
    },
    {
      "cell_type": "code",
      "source": [
        "#Dealing with Additional_Info columns\n",
        "df['Additional_Info'].value_counts()"
      ],
      "metadata": {
        "execution": {
          "iopub.status.busy": "2024-07-15T18:16:54.058869Z",
          "iopub.execute_input": "2024-07-15T18:16:54.059196Z",
          "iopub.status.idle": "2024-07-15T18:16:54.068673Z",
          "shell.execute_reply.started": "2024-07-15T18:16:54.059168Z",
          "shell.execute_reply": "2024-07-15T18:16:54.067687Z"
        },
        "trusted": true,
        "id": "AusGdktE484K"
      },
      "execution_count": null,
      "outputs": []
    },
    {
      "cell_type": "code",
      "source": [
        "df['Additional_Info'] = df['Additional_Info'].replace('No Info', 'No info')\n",
        "df['Additional_Info'] = df['Additional_Info'].replace('1 Short layover', 'No info')\n",
        "df['Additional_Info'] = df['Additional_Info'].replace('Change airports', 'No info')\n",
        "df['Additional_Info'] = df['Additional_Info'].replace('1 Long layover', 'No info')\n",
        "df['Additional_Info'] = df['Additional_Info'].replace('Business class', 'No info')\n",
        "df['Additional_Info'] = df['Additional_Info'].replace('Red-eye flight', 'No info')\n",
        "df['Additional_Info'] = df['Additional_Info'].replace('2 Long layover', 'No info')"
      ],
      "metadata": {
        "execution": {
          "iopub.status.busy": "2024-07-15T18:16:54.069787Z",
          "iopub.execute_input": "2024-07-15T18:16:54.070091Z",
          "iopub.status.idle": "2024-07-15T18:16:54.090908Z",
          "shell.execute_reply.started": "2024-07-15T18:16:54.070065Z",
          "shell.execute_reply": "2024-07-15T18:16:54.089667Z"
        },
        "trusted": true,
        "id": "4uaOZSiV484L"
      },
      "execution_count": null,
      "outputs": []
    },
    {
      "cell_type": "code",
      "source": [
        "Additional_Info=pd.get_dummies(df['Additional_Info'], drop_first=True).astype(int)\n",
        "Additional_Info.head()"
      ],
      "metadata": {
        "execution": {
          "iopub.status.busy": "2024-07-15T18:16:54.092361Z",
          "iopub.execute_input": "2024-07-15T18:16:54.0928Z",
          "iopub.status.idle": "2024-07-15T18:16:54.107071Z",
          "shell.execute_reply.started": "2024-07-15T18:16:54.092762Z",
          "shell.execute_reply": "2024-07-15T18:16:54.105657Z"
        },
        "trusted": true,
        "id": "_nslyBoD484L"
      },
      "execution_count": null,
      "outputs": []
    },
    {
      "cell_type": "code",
      "source": [
        "df['Total_Stops'] = df['Total_Stops'].map({'non-stop':0, '2 stops':2, '1 stop':1, '3 stops':3, '4 stops':4})"
      ],
      "metadata": {
        "execution": {
          "iopub.status.busy": "2024-07-15T18:16:54.108319Z",
          "iopub.execute_input": "2024-07-15T18:16:54.108648Z",
          "iopub.status.idle": "2024-07-15T18:16:54.115713Z",
          "shell.execute_reply.started": "2024-07-15T18:16:54.10862Z",
          "shell.execute_reply": "2024-07-15T18:16:54.114639Z"
        },
        "trusted": true,
        "id": "e01pwEZ2484M"
      },
      "execution_count": null,
      "outputs": []
    },
    {
      "cell_type": "code",
      "source": [
        "df.columns"
      ],
      "metadata": {
        "execution": {
          "iopub.status.busy": "2024-07-15T18:16:54.117332Z",
          "iopub.execute_input": "2024-07-15T18:16:54.117753Z",
          "iopub.status.idle": "2024-07-15T18:16:54.12763Z",
          "shell.execute_reply.started": "2024-07-15T18:16:54.117715Z",
          "shell.execute_reply": "2024-07-15T18:16:54.12664Z"
        },
        "trusted": true,
        "id": "2vrAlK9c484M"
      },
      "execution_count": null,
      "outputs": []
    },
    {
      "cell_type": "code",
      "source": [
        "df.drop(['Airline','Source','Destination','Route','Additional_Info','Date_of_Journey_timeStamp','Day_of_Journey','Month_of_Journey'],axis=1,inplace=True)"
      ],
      "metadata": {
        "execution": {
          "iopub.status.busy": "2024-07-15T18:16:54.128855Z",
          "iopub.execute_input": "2024-07-15T18:16:54.129214Z",
          "iopub.status.idle": "2024-07-15T18:16:54.140724Z",
          "shell.execute_reply.started": "2024-07-15T18:16:54.129178Z",
          "shell.execute_reply": "2024-07-15T18:16:54.139677Z"
        },
        "trusted": true,
        "id": "f4tGs2UW484M"
      },
      "execution_count": null,
      "outputs": []
    },
    {
      "cell_type": "code",
      "source": [
        "pd.set_option('display.max_columns', None)\n",
        "endocded_data = pd.concat([df,Additional_Info,Airline], axis=1)\n",
        "endocded_data"
      ],
      "metadata": {
        "execution": {
          "iopub.status.busy": "2024-07-15T18:16:54.142091Z",
          "iopub.execute_input": "2024-07-15T18:16:54.142424Z",
          "iopub.status.idle": "2024-07-15T18:16:54.170757Z",
          "shell.execute_reply.started": "2024-07-15T18:16:54.142395Z",
          "shell.execute_reply": "2024-07-15T18:16:54.16966Z"
        },
        "trusted": true,
        "id": "LH5QZYCV484O"
      },
      "execution_count": null,
      "outputs": []
    },
    {
      "cell_type": "markdown",
      "source": [
        "### Remove outliers"
      ],
      "metadata": {
        "id": "IfSp2VkT484P"
      }
    },
    {
      "cell_type": "markdown",
      "source": [],
      "metadata": {
        "id": "OUMsg4Wb484P"
      }
    },
    {
      "cell_type": "code",
      "source": [
        "def plot(df,col):\n",
        "    # this fucntion plot hist and box plot\n",
        "    # takes two argument df: dataframe and col: column name\n",
        "    fig, (ax1,ax2) = plt.subplots(2,1)\n",
        "    sns.distplot(df[col],ax=ax1)\n",
        "    sns.boxplot(x=df[col],ax=ax2)"
      ],
      "metadata": {
        "execution": {
          "iopub.status.busy": "2024-07-15T18:16:54.172074Z",
          "iopub.execute_input": "2024-07-15T18:16:54.172391Z",
          "iopub.status.idle": "2024-07-15T18:16:54.178872Z",
          "shell.execute_reply.started": "2024-07-15T18:16:54.172364Z",
          "shell.execute_reply": "2024-07-15T18:16:54.177677Z"
        },
        "trusted": true,
        "id": "GGI6irq9484Q"
      },
      "execution_count": null,
      "outputs": []
    },
    {
      "cell_type": "code",
      "source": [
        "plot(endocded_data,'Price')"
      ],
      "metadata": {
        "execution": {
          "iopub.status.busy": "2024-07-15T18:16:54.180264Z",
          "iopub.execute_input": "2024-07-15T18:16:54.180646Z",
          "iopub.status.idle": "2024-07-15T18:16:54.760789Z",
          "shell.execute_reply.started": "2024-07-15T18:16:54.180617Z",
          "shell.execute_reply": "2024-07-15T18:16:54.759594Z"
        },
        "trusted": true,
        "id": "fH3chNhB484Q"
      },
      "execution_count": null,
      "outputs": []
    },
    {
      "cell_type": "markdown",
      "source": [
        "I will use IQR method to remove outliers"
      ],
      "metadata": {
        "id": "5MVMn9th484Q"
      }
    },
    {
      "cell_type": "code",
      "source": [
        "q1 = endocded_data['Price'].quantile(0.25)\n",
        "q3 = endocded_data['Price'].quantile(0.75)\n",
        "iqr = q3 - q1\n",
        "lower_bound = q1 - 1.5 * iqr\n",
        "upper_bound = q3 + 1.5 * iqr\n",
        "\n",
        "#outliers\n",
        "outliers = endocded_data[(endocded_data['Price'] < lower_bound) | (endocded_data['Price'] > upper_bound)]\n",
        "outliers.Price.sort_values()\n",
        "\n",
        "endocded_data = endocded_data[(endocded_data['Price'] >= lower_bound) & (endocded_data['Price'] <= upper_bound)]"
      ],
      "metadata": {
        "execution": {
          "iopub.status.busy": "2024-07-15T18:16:54.762438Z",
          "iopub.execute_input": "2024-07-15T18:16:54.763119Z",
          "iopub.status.idle": "2024-07-15T18:16:54.776918Z",
          "shell.execute_reply.started": "2024-07-15T18:16:54.763085Z",
          "shell.execute_reply": "2024-07-15T18:16:54.775584Z"
        },
        "trusted": true,
        "id": "_35kYqaV484R"
      },
      "execution_count": null,
      "outputs": []
    },
    {
      "cell_type": "code",
      "source": [
        "print(f'Numbers of outliers is {len(outliers)}')"
      ],
      "metadata": {
        "execution": {
          "iopub.status.busy": "2024-07-15T18:16:54.778376Z",
          "iopub.execute_input": "2024-07-15T18:16:54.77879Z",
          "iopub.status.idle": "2024-07-15T18:16:54.785811Z",
          "shell.execute_reply.started": "2024-07-15T18:16:54.77876Z",
          "shell.execute_reply": "2024-07-15T18:16:54.784558Z"
        },
        "trusted": true,
        "id": "AKLf9Fey484T"
      },
      "execution_count": null,
      "outputs": []
    },
    {
      "cell_type": "code",
      "source": [
        "#check the result\n",
        "plot(endocded_data,'Price')"
      ],
      "metadata": {
        "execution": {
          "iopub.status.busy": "2024-07-15T18:16:54.78775Z",
          "iopub.execute_input": "2024-07-15T18:16:54.788249Z",
          "iopub.status.idle": "2024-07-15T18:16:55.316663Z",
          "shell.execute_reply.started": "2024-07-15T18:16:54.788211Z",
          "shell.execute_reply": "2024-07-15T18:16:55.315522Z"
        },
        "trusted": true,
        "id": "_eMWW0-Z484U"
      },
      "execution_count": null,
      "outputs": []
    },
    {
      "cell_type": "code",
      "source": [
        "# Check the correlation using heatmap\n",
        "correlation_matrix = endocded_data.corr()\n",
        "plt.figure(figsize=(23, 15))\n",
        "sns.heatmap(correlation_matrix, annot=True, cmap='coolwarm', center=0)\n",
        "plt.show()"
      ],
      "metadata": {
        "execution": {
          "iopub.status.busy": "2024-07-15T18:16:55.318362Z",
          "iopub.execute_input": "2024-07-15T18:16:55.318789Z",
          "iopub.status.idle": "2024-07-15T18:16:56.914487Z",
          "shell.execute_reply.started": "2024-07-15T18:16:55.318752Z",
          "shell.execute_reply": "2024-07-15T18:16:56.913256Z"
        },
        "trusted": true,
        "id": "yWrgvMYZ484V"
      },
      "execution_count": null,
      "outputs": []
    },
    {
      "cell_type": "code",
      "source": [
        "# Its a good idea to take long of the price\n",
        "endocded_data['Log_Price'] = np.log(endocded_data.Price)"
      ],
      "metadata": {
        "execution": {
          "iopub.status.busy": "2024-07-15T18:16:56.916183Z",
          "iopub.execute_input": "2024-07-15T18:16:56.916503Z",
          "iopub.status.idle": "2024-07-15T18:16:56.923383Z",
          "shell.execute_reply.started": "2024-07-15T18:16:56.916476Z",
          "shell.execute_reply": "2024-07-15T18:16:56.922236Z"
        },
        "trusted": true,
        "id": "pfHu0QP9484X"
      },
      "execution_count": null,
      "outputs": []
    },
    {
      "cell_type": "markdown",
      "source": [
        "We can see that Duration, total stops, source and destination coordination, and travel distance correlate with the price"
      ],
      "metadata": {
        "id": "S3xric-m484X"
      }
    },
    {
      "cell_type": "markdown",
      "source": [
        "Split data to X and Y then to train and test sets"
      ],
      "metadata": {
        "id": "_pv6JQmu484Y"
      }
    },
    {
      "cell_type": "code",
      "source": [
        "X=endocded_data.drop(['Price','Log_Price'], axis=1)\n",
        "y=endocded_data['Log_Price']"
      ],
      "metadata": {
        "execution": {
          "iopub.status.busy": "2024-07-15T18:16:56.924981Z",
          "iopub.execute_input": "2024-07-15T18:16:56.925333Z",
          "iopub.status.idle": "2024-07-15T18:16:56.936484Z",
          "shell.execute_reply.started": "2024-07-15T18:16:56.925305Z",
          "shell.execute_reply": "2024-07-15T18:16:56.935233Z"
        },
        "trusted": true,
        "id": "QnsLN_-A484Y"
      },
      "execution_count": null,
      "outputs": []
    },
    {
      "cell_type": "code",
      "source": [
        "X_train, X_test, y_train, y_test = train_test_split(X, y, test_size=0.2, random_state=42)"
      ],
      "metadata": {
        "execution": {
          "iopub.status.busy": "2024-07-15T18:16:56.937909Z",
          "iopub.execute_input": "2024-07-15T18:16:56.938287Z",
          "iopub.status.idle": "2024-07-15T18:16:56.949428Z",
          "shell.execute_reply.started": "2024-07-15T18:16:56.93825Z",
          "shell.execute_reply": "2024-07-15T18:16:56.94821Z"
        },
        "trusted": true,
        "id": "z4Qrua4-484Z"
      },
      "execution_count": null,
      "outputs": []
    },
    {
      "cell_type": "code",
      "source": [
        "#apply Standard Scaling to make all feature at same scale so give us better result on ANN and Linear Regression\n",
        "scaler = StandardScaler()\n",
        "scaler.fit(X_train)\n",
        "X_train_scaled = scaler.transform(X_train)\n",
        "X_test_scaled = scaler.transform(X_test)"
      ],
      "metadata": {
        "execution": {
          "iopub.status.busy": "2024-07-15T18:16:56.950728Z",
          "iopub.execute_input": "2024-07-15T18:16:56.951176Z",
          "iopub.status.idle": "2024-07-15T18:16:56.968215Z",
          "shell.execute_reply.started": "2024-07-15T18:16:56.951093Z",
          "shell.execute_reply": "2024-07-15T18:16:56.967216Z"
        },
        "trusted": true,
        "id": "DSMOMR9g484Z"
      },
      "execution_count": null,
      "outputs": []
    },
    {
      "cell_type": "code",
      "source": [
        "def predict(ml_model,X_train=X_train,X_test=X_test):\n",
        "    #this fucntion helps to train the model and plot the results\n",
        "\n",
        "  model = ml_model.fit(X_train,y_train)\n",
        "  print('Training score : {}'.format(model.score(X_train,y_train)))\n",
        "  y_prediction = model.predict(X_test)\n",
        "  print('Predictions are : {}'.format(y_prediction))\n",
        "  print('\\n')\n",
        "  r2_score = metrics.r2_score(y_test, y_prediction)\n",
        "  print('r2_score : {}'.format(r2_score))\n",
        "  print('MAE : {}'.format(metrics.mean_absolute_error(y_test, y_prediction)))\n",
        "  print('MSE : {}'.format(metrics.mean_squared_error(y_test, y_prediction)))\n",
        "  print('RMSE : {}'.format(np.sqrt(metrics.mean_squared_error(y_test, y_prediction))))\n",
        "\n",
        "  fig, (ax1,ax2) = plt.subplots(1,2,figsize=(15,5))\n",
        "  sns.distplot(y_test-y_prediction,ax=ax1)\n",
        "  ax1.set_title('Distribution of Prediction Errors')\n",
        "  #sns.distplot(y_test-y_prediction)\n",
        "  ax2.scatter(y_test, y_prediction, color = 'blue')\n",
        "  ax2.plot(y_prediction, y_prediction, color = 'red')\n",
        "  ax2.set_xlabel('Predicted')\n",
        "  ax2.set_ylabel('Actual')\n",
        "  ax2.set_title('Actual vs Predicted')\n",
        "  plt.show()"
      ],
      "metadata": {
        "execution": {
          "iopub.status.busy": "2024-07-15T18:16:56.96956Z",
          "iopub.execute_input": "2024-07-15T18:16:56.97007Z",
          "iopub.status.idle": "2024-07-15T18:16:56.980641Z",
          "shell.execute_reply.started": "2024-07-15T18:16:56.970033Z",
          "shell.execute_reply": "2024-07-15T18:16:56.979231Z"
        },
        "trusted": true,
        "id": "DADNcsbM484Z"
      },
      "execution_count": null,
      "outputs": []
    },
    {
      "cell_type": "markdown",
      "source": [
        "### Try Random Forest Model"
      ],
      "metadata": {
        "id": "qqy8jnWH484a"
      }
    },
    {
      "cell_type": "markdown",
      "source": [
        "Note: Random Forest do not need scaled data but it is a good idea to do that"
      ],
      "metadata": {
        "id": "TBrizwxJ484a"
      }
    },
    {
      "cell_type": "code",
      "source": [
        "from sklearn.model_selection import RandomizedSearchCV\n",
        "#Randomized Search CV\n",
        "\n",
        "# Number of trees in random forest\n",
        "n_estimators = [int(x) for x in np.linspace(start = 100, stop = 1200, num = 12)]\n",
        "# Number of features to consider at every split\n",
        "max_features = ['auto', 'sqrt']\n",
        "# Maximum number of levels in tree\n",
        "max_depth = [int(x) for x in np.linspace(5, 30, num = 6)]\n",
        "# Minimum number of samples required to split a node\n",
        "min_samples_split = [2, 5, 10, 15, 100]\n",
        "# Minimum number of samples required at each leaf node\n",
        "min_samples_leaf = [1, 2, 5, 10]\n",
        "\n",
        "# Create the random grid\n",
        "\n",
        "random_grid = {'n_estimators': n_estimators,\n",
        "               'max_features': max_features,\n",
        "               'max_depth': max_depth,\n",
        "               'min_samples_split': min_samples_split,\n",
        "               'min_samples_leaf': min_samples_leaf}\n",
        "\n",
        "# Random search of parameters, using 5 fold cross validation,\n",
        "# search across 100 different combinations\n",
        "rf_random = RandomizedSearchCV(estimator = RandomForestRegressor(), param_distributions = random_grid,scoring='neg_mean_squared_error', n_iter = 10, cv = 5, verbose=2, random_state=42, n_jobs = 1)\n",
        "rf_random.fit(X_train_scaled,y_train)"
      ],
      "metadata": {
        "execution": {
          "iopub.status.busy": "2024-07-15T18:16:56.982312Z",
          "iopub.execute_input": "2024-07-15T18:16:56.982752Z",
          "iopub.status.idle": "2024-07-15T18:22:02.544609Z",
          "shell.execute_reply.started": "2024-07-15T18:16:56.982715Z",
          "shell.execute_reply": "2024-07-15T18:22:02.543506Z"
        },
        "trusted": true,
        "id": "x0WNxVOl484a"
      },
      "execution_count": null,
      "outputs": []
    },
    {
      "cell_type": "code",
      "source": [
        "rf_random.best_params_"
      ],
      "metadata": {
        "execution": {
          "iopub.status.busy": "2024-07-15T18:22:02.545865Z",
          "iopub.execute_input": "2024-07-15T18:22:02.546202Z",
          "iopub.status.idle": "2024-07-15T18:22:02.555787Z",
          "shell.execute_reply.started": "2024-07-15T18:22:02.546174Z",
          "shell.execute_reply": "2024-07-15T18:22:02.554482Z"
        },
        "trusted": true,
        "id": "JYBkbx0w484b"
      },
      "execution_count": null,
      "outputs": []
    },
    {
      "cell_type": "code",
      "source": [
        "predict(RandomForestRegressor(**rf_random.best_params_,random_state=42),X_test=X_test_scaled,X_train=X_train_scaled)"
      ],
      "metadata": {
        "execution": {
          "iopub.status.busy": "2024-07-15T18:22:02.557209Z",
          "iopub.execute_input": "2024-07-15T18:22:02.557606Z",
          "iopub.status.idle": "2024-07-15T18:22:17.8464Z",
          "shell.execute_reply.started": "2024-07-15T18:22:02.557574Z",
          "shell.execute_reply": "2024-07-15T18:22:17.845151Z"
        },
        "trusted": true,
        "id": "bBzWyp3r484b"
      },
      "execution_count": null,
      "outputs": []
    },
    {
      "cell_type": "markdown",
      "source": [
        "## try Linear Regression Model"
      ],
      "metadata": {
        "id": "JHDgHN8B484c"
      }
    },
    {
      "cell_type": "code",
      "source": [
        "predict(LinearRegression(),X_test=X_test_scaled,X_train=X_train_scaled)"
      ],
      "metadata": {
        "execution": {
          "iopub.status.busy": "2024-07-15T18:22:17.847916Z",
          "iopub.execute_input": "2024-07-15T18:22:17.848279Z",
          "iopub.status.idle": "2024-07-15T18:22:18.497178Z",
          "shell.execute_reply.started": "2024-07-15T18:22:17.84824Z",
          "shell.execute_reply": "2024-07-15T18:22:18.496118Z"
        },
        "trusted": true,
        "id": "rcPQ-GDp484c"
      },
      "execution_count": null,
      "outputs": []
    },
    {
      "cell_type": "markdown",
      "source": [
        "## Try Neural Network"
      ],
      "metadata": {
        "id": "aoizXMOq484c"
      }
    },
    {
      "cell_type": "code",
      "source": [
        "X_train.shape"
      ],
      "metadata": {
        "execution": {
          "iopub.status.busy": "2024-07-15T18:22:18.498735Z",
          "iopub.execute_input": "2024-07-15T18:22:18.499106Z",
          "iopub.status.idle": "2024-07-15T18:22:18.506355Z",
          "shell.execute_reply.started": "2024-07-15T18:22:18.499077Z",
          "shell.execute_reply": "2024-07-15T18:22:18.505025Z"
        },
        "trusted": true,
        "id": "_5oXdrJ8484d"
      },
      "execution_count": null,
      "outputs": []
    },
    {
      "cell_type": "markdown",
      "source": [
        "We Have 20 Feature so we need to make our outer leyar to be 20 unit\n",
        "our ac"
      ],
      "metadata": {
        "id": "rDIt2dsS484d"
      }
    },
    {
      "cell_type": "code",
      "source": [
        "\n",
        "ann = tf.keras.models.Sequential()\n",
        "ann.add(tf.keras.layers.Dense(units=20, activation='sigmoid'))\n",
        "\n",
        "ann.add(tf.keras.layers.Dense(units=80, activation='tanh'))\n",
        "\n",
        "ann.add(tf.keras.layers.Dense(units=160, activation='sigmoid'))\n",
        "\n",
        "ann.add(tf.keras.layers.Dense(units=80, activation='tanh'))\n",
        "\n",
        "\n",
        "\n",
        "ann.add(tf.keras.layers.Dense(units=1))\n",
        "\n",
        "\n",
        "early_stop = EarlyStopping(monitor='val_loss',mode='min',verbose=1, patience=25)\n",
        "ann.compile(optimizer = 'adam', loss = 'mean_squared_error')\n",
        "ann.fit(X_train_scaled, y_train, batch_size = 32, epochs = 5000,validation_data=(X_test_scaled, y_test),callbacks=[early_stop])\n",
        "\n"
      ],
      "metadata": {
        "scrolled": true,
        "execution": {
          "iopub.status.busy": "2024-07-15T18:22:18.507742Z",
          "iopub.execute_input": "2024-07-15T18:22:18.508109Z",
          "iopub.status.idle": "2024-07-15T18:25:12.406686Z",
          "shell.execute_reply.started": "2024-07-15T18:22:18.508079Z",
          "shell.execute_reply": "2024-07-15T18:25:12.405429Z"
        },
        "trusted": true,
        "id": "97pEwwrR484d"
      },
      "execution_count": null,
      "outputs": []
    },
    {
      "cell_type": "code",
      "source": [
        "\n",
        "losses = pd.DataFrame(ann.history.history)[100:]\n",
        "losses.plot()"
      ],
      "metadata": {
        "execution": {
          "iopub.status.busy": "2024-07-15T18:25:12.40823Z",
          "iopub.execute_input": "2024-07-15T18:25:12.408626Z",
          "iopub.status.idle": "2024-07-15T18:25:12.713653Z",
          "shell.execute_reply.started": "2024-07-15T18:25:12.408595Z",
          "shell.execute_reply": "2024-07-15T18:25:12.712472Z"
        },
        "trusted": true,
        "id": "iJE1zFC9484e"
      },
      "execution_count": null,
      "outputs": []
    },
    {
      "cell_type": "code",
      "source": [
        "y_pred = ann.predict(X_test_scaled)"
      ],
      "metadata": {
        "execution": {
          "iopub.status.busy": "2024-07-15T18:25:12.714972Z",
          "iopub.execute_input": "2024-07-15T18:25:12.715459Z",
          "iopub.status.idle": "2024-07-15T18:25:13.000844Z",
          "shell.execute_reply.started": "2024-07-15T18:25:12.715418Z",
          "shell.execute_reply": "2024-07-15T18:25:12.999379Z"
        },
        "trusted": true,
        "id": "XuJiKoB3484e"
      },
      "execution_count": null,
      "outputs": []
    },
    {
      "cell_type": "code",
      "source": [
        "fig, (ax1,ax2) = plt.subplots(1,2,figsize=(15,5))\n",
        "sns.distplot(y_test-y_pred.reshape(-1),ax=ax1)\n",
        "ax1.set_title('Distribution of Prediction Errors')\n",
        "#sns.distplot(y_test-y_pred)\n",
        "ax2.scatter(y_test, y_pred.reshape(-1), color = 'blue')\n",
        "ax2.plot(y_pred.reshape(-1), y_pred.reshape(-1), color = 'red')\n",
        "ax2.set_xlabel('Predicted')\n",
        "ax2.set_ylabel('Actual')\n",
        "ax2.set_title('Actual vs Predicted')\n",
        "plt.show()"
      ],
      "metadata": {
        "execution": {
          "iopub.status.busy": "2024-07-15T18:25:13.003541Z",
          "iopub.execute_input": "2024-07-15T18:25:13.003989Z",
          "iopub.status.idle": "2024-07-15T18:25:13.6205Z",
          "shell.execute_reply.started": "2024-07-15T18:25:13.003949Z",
          "shell.execute_reply": "2024-07-15T18:25:13.619255Z"
        },
        "trusted": true,
        "id": "Yw3-uqEy484f"
      },
      "execution_count": null,
      "outputs": []
    },
    {
      "cell_type": "code",
      "source": [
        "from sklearn.metrics import mean_absolute_error, mean_squared_error, r2_score\n",
        "\n",
        "mae = mean_absolute_error(y_test, y_pred)\n",
        "mse = mean_squared_error(y_test, y_pred)\n",
        "rmse = np.sqrt(mse)\n",
        "r2 = r2_score(y_test, y_pred)\n",
        "\n",
        "print(f'Mean Absolute Error (MAE): {mae:.2f}')\n",
        "print(f'Mean Squared Error (MSE): {mse:.2f}')\n",
        "print(f'Root Mean Squared Error (RMSE): {rmse:.2f}')\n",
        "print(f'R-squared (R2): {r2:.2f}')"
      ],
      "metadata": {
        "execution": {
          "iopub.status.busy": "2024-07-15T18:25:13.631619Z",
          "iopub.execute_input": "2024-07-15T18:25:13.632081Z",
          "iopub.status.idle": "2024-07-15T18:25:13.64348Z",
          "shell.execute_reply.started": "2024-07-15T18:25:13.632051Z",
          "shell.execute_reply": "2024-07-15T18:25:13.642246Z"
        },
        "trusted": true,
        "id": "b4-HQtJK484f"
      },
      "execution_count": null,
      "outputs": []
    },
    {
      "cell_type": "markdown",
      "source": [
        "Conclusion, Random Forest is the best Accurcy by ~95%"
      ],
      "metadata": {
        "id": "NhdTjdQ8484f"
      }
    },
    {
      "cell_type": "code",
      "source": [],
      "metadata": {
        "id": "m5KPkt-B484f"
      },
      "execution_count": null,
      "outputs": []
    }
  ]
}
